{
 "cells": [
  {
   "cell_type": "markdown",
   "metadata": {},
   "source": [
    "# WeatherPy\n",
    "1)\n",
    "2)\n",
    "3)"
   ]
  },
  {
   "cell_type": "code",
   "execution_count": 1,
   "metadata": {
    "scrolled": true
   },
   "outputs": [],
   "source": [
    "# Dependencies and Setup\n",
    "import matplotlib.pyplot as plt\n",
    "import pandas as pd\n",
    "import numpy as np\n",
    "import requests\n",
    "import time\n",
    "from scipy.stats import linregress\n",
    "from pprint import pprint \n",
    "import datetime as dt  \n",
    "\n",
    "# Import API key\n",
    "from api_keys import weather_api_key\n",
    "\n",
    "# Incorporated citipy to determine city based on latitude and longitude\n",
    "from citipy import citipy\n",
    "\n",
    "# Output File (CSV)\n",
    "output_data_file = \"output_data/cities.csv\"\n",
    "\n",
    "# Range of latitudes and longitudes\n",
    "lat_range = (-90, 90)\n",
    "lng_range = (-180, 180)"
   ]
  },
  {
   "cell_type": "markdown",
   "metadata": {},
   "source": [
    "## Generate Cities List"
   ]
  },
  {
   "cell_type": "code",
   "execution_count": 2,
   "metadata": {},
   "outputs": [
    {
     "name": "stdout",
     "output_type": "stream",
     "text": [
      "141\n"
     ]
    }
   ],
   "source": [
    "# List for holding lat_lngs and cities\n",
    "lat_lngs = []\n",
    "cities = []\n",
    "\n",
    "# Create a set of random lat and lng combinations\n",
    "lats = np.random.uniform(lat_range[0], lat_range[1], size=200)\n",
    "lngs = np.random.uniform(lng_range[0], lng_range[1], size=200)\n",
    "lat_lngs = zip(lats, lngs)\n",
    "\n",
    "# Identify nearest city for each lat, lng combination\n",
    "for lat_lng in lat_lngs:\n",
    "    city = citipy.nearest_city(lat_lng[0], lat_lng[1]).city_name\n",
    "    \n",
    "    # If the city is unique, then add it to a our cities list\n",
    "    if city not in cities:\n",
    "        cities.append(city)\n",
    "\n",
    "# Print the city count to confirm sufficient count\n",
    "print(len(cities))"
   ]
  },
  {
   "cell_type": "markdown",
   "metadata": {},
   "source": [
    "### API Calls\n",
    "* Perform a weather check on each city using a series of successive API calls\n",
    "* Print log of each city as it's being processed\n"
   ]
  },
  {
   "cell_type": "code",
   "execution_count": 3,
   "metadata": {
    "scrolled": true
   },
   "outputs": [
    {
     "name": "stdout",
     "output_type": "stream",
     "text": [
      "Processing record 1|melbourne\n",
      "Processing record 2|tuktoyaktuk\n",
      "City not found... Skipping.\n",
      "Processing record 3|olinda\n",
      "Processing record 4|griffith\n",
      "City not found... Skipping.\n",
      "Processing record 5|grand-santi\n",
      "Processing record 6|bure\n",
      "Processing record 7|castro\n",
      "City not found... Skipping.\n",
      "Processing record 8|bengkulu\n",
      "Processing record 9|gubkinskiy\n",
      "Processing record 10|buala\n",
      "Processing record 11|escanaba\n",
      "Processing record 12|avarua\n",
      "Processing record 13|ligayan\n",
      "Processing record 14|mezhdurechensk\n",
      "Processing record 15|mataura\n",
      "Processing record 16|kruisfontein\n",
      "Processing record 17|iqaluit\n",
      "Processing record 18|kapaa\n",
      "Processing record 19|chuy\n",
      "Processing record 20|talnakh\n",
      "Processing record 21|pangoa\n",
      "Processing record 22|lorengau\n",
      "Processing record 23|ulladulla\n",
      "Processing record 24|ribeira grande\n",
      "Processing record 25|qaanaaq\n",
      "Processing record 26|cabo san lucas\n",
      "Processing record 27|busselton\n",
      "Processing record 28|puerto maldonado\n",
      "Processing record 29|sao filipe\n",
      "Processing record 30|georgetown\n",
      "Processing record 31|socond\n",
      "Processing record 32|new norfolk\n",
      "Processing record 33|dauphin\n",
      "City not found... Skipping.\n",
      "Processing record 34|faya\n",
      "Processing record 35|cumberland\n",
      "Processing record 36|bireun\n",
      "Processing record 37|hithadhoo\n",
      "Processing record 38|muravlenko\n",
      "Processing record 39|ushuaia\n",
      "Processing record 40|sobolevo\n",
      "Processing record 41|bambous virieux\n",
      "Processing record 42|chadiza\n",
      "Processing record 43|itoman\n",
      "Processing record 44|ust-ilimsk\n",
      "Processing record 45|comodoro rivadavia\n",
      "Processing record 46|vila velha\n",
      "Processing record 47|jamestown\n",
      "Processing record 48|camacha\n",
      "City not found... Skipping.\n",
      "Processing record 49|khatanga\n",
      "Processing record 50|rikitea\n",
      "Processing record 51|butaritari\n",
      "Processing record 52|narsaq\n",
      "Processing record 53|puerto ayora\n",
      "City not found... Skipping.\n",
      "Processing record 54|college\n",
      "Processing record 55|bluff\n",
      "City not found... Skipping.\n",
      "Processing record 56|sept-iles\n",
      "Processing record 57|russell\n",
      "Processing record 58|kodinsk\n",
      "Processing record 59|brae\n",
      "City not found... Skipping.\n",
      "Processing record 60|katsuura\n",
      "Processing record 61|dalvik\n",
      "Processing record 62|mount isa\n",
      "Processing record 63|salalah\n",
      "Processing record 64|nikolskoye\n",
      "Processing record 65|kieta\n",
      "Processing record 66|port alfred\n",
      "Processing record 67|provideniya\n",
      "Processing record 68|chisec\n",
      "Processing record 69|albany\n",
      "City not found... Skipping.\n",
      "Processing record 70|pevek\n",
      "Processing record 71|henties bay\n",
      "Processing record 72|hue\n",
      "Processing record 73|krasnoselkup\n",
      "Processing record 74|peniche\n",
      "Processing record 75|lebu\n",
      "Processing record 76|hermanus\n",
      "Processing record 77|flinders\n",
      "Processing record 78|saskylakh\n",
      "Processing record 79|westport\n",
      "Processing record 80|atambua\n",
      "Processing record 81|pombal\n",
      "Processing record 82|atuona\n",
      "Processing record 83|bukama\n",
      "Processing record 84|samarai\n",
      "Processing record 85|harper\n",
      "Processing record 86|tasiilaq\n",
      "Processing record 87|cherskiy\n",
      "Processing record 88|airai\n",
      "Processing record 89|canandaigua\n",
      "Processing record 90|san cristobal\n",
      "Processing record 91|cidreira\n",
      "Processing record 92|waipawa\n",
      "Processing record 93|lompoc\n",
      "City not found... Skipping.\n",
      "Processing record 94|san jose de sisa\n",
      "Processing record 95|hilo\n",
      "Processing record 96|sur\n",
      "City not found... Skipping.\n",
      "Processing record 97|azangaro\n",
      "Processing record 98|vardo\n",
      "City not found... Skipping.\n",
      "Processing record 99|saint-philippe\n",
      "Processing record 100|praia da vitoria\n",
      "Processing record 101|dhidhdhoo\n",
      "Processing record 102|mitsamiouli\n",
      "Processing record 103|eregli\n",
      "Processing record 104|isangel\n",
      "City not found... Skipping.\n",
      "Processing record 105|saldanha\n",
      "Processing record 106|east london\n",
      "City not found... Skipping.\n",
      "Processing record 107|namibe\n",
      "Processing record 108|axim\n",
      "Processing record 109|cape town\n",
      "Processing record 110|awbari\n",
      "Processing record 111|aquiraz\n",
      "Processing record 112|hobart\n",
      "Processing record 113|bredasdorp\n",
      "Processing record 114|biak\n",
      "Processing record 115|kununurra\n",
      "Processing record 116|dikson\n",
      "Processing record 117|balotra\n",
      "Processing record 118|port hardy\n",
      "Processing record 119|ucluelet\n",
      "Processing record 120|lasa\n",
      "Processing record 121|rio grande\n",
      "Processing record 122|carnarvon\n",
      "Processing record 123|anadyr\n",
      "Processing record 124|ilulissat\n",
      "City not found... Skipping.\n",
      "Processing record 125|kwinana\n",
      "Processing record 126|hambantota\n"
     ]
    }
   ],
   "source": [
    "url = \"http://api.openweathermap.org/data/2.5/weather?units=Imperial&\"\n",
    "\n",
    "#Define empty lists to store values\n",
    "cloudiness = []\n",
    "country = []\n",
    "date = []\n",
    "max_temp = []\n",
    "humidity = []\n",
    "lat = []\n",
    "lng = []\n",
    "wind_speed = []\n",
    "city_name = []\n",
    "\n",
    "#Looping through cities to make api calls using city as query\n",
    "i = 1\n",
    "for city in cities:\n",
    "    city=city\n",
    "    query_url = url + \"appid=\" + weather_api_key + \"&q=\" + city\n",
    "    response = requests.get(query_url).json()\n",
    "    \n",
    "    try:\n",
    "        \n",
    "        cloudiness.append(response[\"clouds\"][\"all\"])\n",
    "        country.append(response[\"sys\"][\"country\"])\n",
    "        date.append(response[\"dt\"])\n",
    "        max_temp.append(response[\"main\"]['temp_max'])\n",
    "        humidity.append(response[\"main\"]['humidity'])\n",
    "        lat.append(response[\"coord\"][\"lat\"])  \n",
    "        lng.append(response[\"coord\"][\"lon\"])\n",
    "        wind_speed.append(response[\"wind\"][\"speed\"])\n",
    "        city_name.append(response[\"name\"])\n",
    "        print(f\"Processing record {i}|{city}\")\n",
    "        i+=1\n",
    "    except (KeyError):\n",
    "        print(\"City not found... Skipping.\")"
   ]
  },
  {
   "cell_type": "markdown",
   "metadata": {},
   "source": [
    "### Create dataframe of cities"
   ]
  },
  {
   "cell_type": "code",
   "execution_count": 4,
   "metadata": {},
   "outputs": [
    {
     "data": {
      "text/html": [
       "<div>\n",
       "<style scoped>\n",
       "    .dataframe tbody tr th:only-of-type {\n",
       "        vertical-align: middle;\n",
       "    }\n",
       "\n",
       "    .dataframe tbody tr th {\n",
       "        vertical-align: top;\n",
       "    }\n",
       "\n",
       "    .dataframe thead th {\n",
       "        text-align: right;\n",
       "    }\n",
       "</style>\n",
       "<table border=\"1\" class=\"dataframe\">\n",
       "  <thead>\n",
       "    <tr style=\"text-align: right;\">\n",
       "      <th></th>\n",
       "      <th>City</th>\n",
       "      <th>Cloudiness</th>\n",
       "      <th>Country</th>\n",
       "      <th>Date</th>\n",
       "      <th>Humidity</th>\n",
       "      <th>Lat</th>\n",
       "      <th>Lng</th>\n",
       "      <th>Max Temp</th>\n",
       "      <th>Wind Speed</th>\n",
       "    </tr>\n",
       "    <tr>\n",
       "      <th>City ID</th>\n",
       "      <th></th>\n",
       "      <th></th>\n",
       "      <th></th>\n",
       "      <th></th>\n",
       "      <th></th>\n",
       "      <th></th>\n",
       "      <th></th>\n",
       "      <th></th>\n",
       "      <th></th>\n",
       "    </tr>\n",
       "  </thead>\n",
       "  <tbody>\n",
       "    <tr>\n",
       "      <th>0</th>\n",
       "      <td>Melbourne</td>\n",
       "      <td>1</td>\n",
       "      <td>US</td>\n",
       "      <td>1619905204</td>\n",
       "      <td>57</td>\n",
       "      <td>28.0836</td>\n",
       "      <td>-80.6081</td>\n",
       "      <td>82.40</td>\n",
       "      <td>11.50</td>\n",
       "    </tr>\n",
       "    <tr>\n",
       "      <th>1</th>\n",
       "      <td>Tuktoyaktuk</td>\n",
       "      <td>90</td>\n",
       "      <td>CA</td>\n",
       "      <td>1619904796</td>\n",
       "      <td>92</td>\n",
       "      <td>69.4541</td>\n",
       "      <td>-133.0374</td>\n",
       "      <td>14.00</td>\n",
       "      <td>5.75</td>\n",
       "    </tr>\n",
       "    <tr>\n",
       "      <th>2</th>\n",
       "      <td>Olinda</td>\n",
       "      <td>75</td>\n",
       "      <td>BR</td>\n",
       "      <td>1619905230</td>\n",
       "      <td>69</td>\n",
       "      <td>-8.0089</td>\n",
       "      <td>-34.8553</td>\n",
       "      <td>80.60</td>\n",
       "      <td>9.22</td>\n",
       "    </tr>\n",
       "    <tr>\n",
       "      <th>3</th>\n",
       "      <td>Griffith</td>\n",
       "      <td>1</td>\n",
       "      <td>US</td>\n",
       "      <td>1619905230</td>\n",
       "      <td>36</td>\n",
       "      <td>41.5284</td>\n",
       "      <td>-87.4237</td>\n",
       "      <td>80.60</td>\n",
       "      <td>19.57</td>\n",
       "    </tr>\n",
       "    <tr>\n",
       "      <th>4</th>\n",
       "      <td>Grand-Santi</td>\n",
       "      <td>73</td>\n",
       "      <td>GF</td>\n",
       "      <td>1619905231</td>\n",
       "      <td>97</td>\n",
       "      <td>4.2500</td>\n",
       "      <td>-54.3833</td>\n",
       "      <td>74.35</td>\n",
       "      <td>2.68</td>\n",
       "    </tr>\n",
       "    <tr>\n",
       "      <th>...</th>\n",
       "      <td>...</td>\n",
       "      <td>...</td>\n",
       "      <td>...</td>\n",
       "      <td>...</td>\n",
       "      <td>...</td>\n",
       "      <td>...</td>\n",
       "      <td>...</td>\n",
       "      <td>...</td>\n",
       "      <td>...</td>\n",
       "    </tr>\n",
       "    <tr>\n",
       "      <th>121</th>\n",
       "      <td>Carnarvon</td>\n",
       "      <td>100</td>\n",
       "      <td>AU</td>\n",
       "      <td>1619905106</td>\n",
       "      <td>64</td>\n",
       "      <td>-24.8667</td>\n",
       "      <td>113.6333</td>\n",
       "      <td>68.00</td>\n",
       "      <td>10.36</td>\n",
       "    </tr>\n",
       "    <tr>\n",
       "      <th>122</th>\n",
       "      <td>Anadyr</td>\n",
       "      <td>40</td>\n",
       "      <td>RU</td>\n",
       "      <td>1619905263</td>\n",
       "      <td>79</td>\n",
       "      <td>64.7500</td>\n",
       "      <td>177.4833</td>\n",
       "      <td>14.00</td>\n",
       "      <td>11.18</td>\n",
       "    </tr>\n",
       "    <tr>\n",
       "      <th>123</th>\n",
       "      <td>Ilulissat</td>\n",
       "      <td>18</td>\n",
       "      <td>GL</td>\n",
       "      <td>1619905264</td>\n",
       "      <td>42</td>\n",
       "      <td>69.2167</td>\n",
       "      <td>-51.1000</td>\n",
       "      <td>46.40</td>\n",
       "      <td>12.66</td>\n",
       "    </tr>\n",
       "    <tr>\n",
       "      <th>124</th>\n",
       "      <td>Kwinana</td>\n",
       "      <td>0</td>\n",
       "      <td>AU</td>\n",
       "      <td>1619905264</td>\n",
       "      <td>100</td>\n",
       "      <td>-32.2500</td>\n",
       "      <td>115.7667</td>\n",
       "      <td>48.20</td>\n",
       "      <td>5.75</td>\n",
       "    </tr>\n",
       "    <tr>\n",
       "      <th>125</th>\n",
       "      <td>Hambantota</td>\n",
       "      <td>75</td>\n",
       "      <td>LK</td>\n",
       "      <td>1619905135</td>\n",
       "      <td>100</td>\n",
       "      <td>6.1241</td>\n",
       "      <td>81.1185</td>\n",
       "      <td>78.80</td>\n",
       "      <td>2.30</td>\n",
       "    </tr>\n",
       "  </tbody>\n",
       "</table>\n",
       "<p>126 rows × 9 columns</p>\n",
       "</div>"
      ],
      "text/plain": [
       "                City  Cloudiness Country        Date  Humidity      Lat  \\\n",
       "City ID                                                                   \n",
       "0          Melbourne           1      US  1619905204        57  28.0836   \n",
       "1        Tuktoyaktuk          90      CA  1619904796        92  69.4541   \n",
       "2             Olinda          75      BR  1619905230        69  -8.0089   \n",
       "3           Griffith           1      US  1619905230        36  41.5284   \n",
       "4        Grand-Santi          73      GF  1619905231        97   4.2500   \n",
       "...              ...         ...     ...         ...       ...      ...   \n",
       "121        Carnarvon         100      AU  1619905106        64 -24.8667   \n",
       "122           Anadyr          40      RU  1619905263        79  64.7500   \n",
       "123        Ilulissat          18      GL  1619905264        42  69.2167   \n",
       "124          Kwinana           0      AU  1619905264       100 -32.2500   \n",
       "125       Hambantota          75      LK  1619905135       100   6.1241   \n",
       "\n",
       "              Lng  Max Temp  Wind Speed  \n",
       "City ID                                  \n",
       "0        -80.6081     82.40       11.50  \n",
       "1       -133.0374     14.00        5.75  \n",
       "2        -34.8553     80.60        9.22  \n",
       "3        -87.4237     80.60       19.57  \n",
       "4        -54.3833     74.35        2.68  \n",
       "...           ...       ...         ...  \n",
       "121      113.6333     68.00       10.36  \n",
       "122      177.4833     14.00       11.18  \n",
       "123      -51.1000     46.40       12.66  \n",
       "124      115.7667     48.20        5.75  \n",
       "125       81.1185     78.80        2.30  \n",
       "\n",
       "[126 rows x 9 columns]"
      ]
     },
     "execution_count": 4,
     "metadata": {},
     "output_type": "execute_result"
    }
   ],
   "source": [
    "city_df = pd.DataFrame({\"City\":city_name, \n",
    "                        \"Cloudiness\":cloudiness, \n",
    "                        \"Country\":country, \n",
    "                        \"Date\":date, \n",
    "                        \"Humidity\":humidity,\n",
    "                        \"Lat\":lat,\n",
    "                        \"Lng\":lng,\n",
    "                        \"Max Temp\":max_temp,\n",
    "                        \"Wind Speed\":wind_speed\n",
    "                                         })\n",
    "#rename axis\n",
    "city_df = city_df.rename_axis('City ID')\n",
    "\n",
    "#Exporting data to csv\n",
    "city_df.to_csv(\"../output_data/city.csv\")\n",
    "\n",
    "#Displaying dataframe\n",
    "city_df"
   ]
  },
  {
   "cell_type": "code",
   "execution_count": 5,
   "metadata": {},
   "outputs": [
    {
     "data": {
      "text/plain": [
       "City          126\n",
       "Cloudiness    126\n",
       "Country       126\n",
       "Date          126\n",
       "Humidity      126\n",
       "Lat           126\n",
       "Lng           126\n",
       "Max Temp      126\n",
       "Wind Speed    126\n",
       "dtype: int64"
      ]
     },
     "execution_count": 5,
     "metadata": {},
     "output_type": "execute_result"
    }
   ],
   "source": [
    "#Check data\n",
    "city_df.count()"
   ]
  },
  {
   "cell_type": "markdown",
   "metadata": {},
   "source": [
    "## Plotting the Data"
   ]
  },
  {
   "cell_type": "code",
   "execution_count": 6,
   "metadata": {},
   "outputs": [
    {
     "data": {
      "text/plain": [
       "'05/01/2021'"
      ]
     },
     "execution_count": 6,
     "metadata": {},
     "output_type": "execute_result"
    }
   ],
   "source": [
    "#Find date of analysis\n",
    "\n",
    "date = dt.datetime.today().strftime(\"%m/%d/%Y\")\n",
    "#date"
   ]
  },
  {
   "cell_type": "markdown",
   "metadata": {},
   "source": [
    "## Latitude vs. Temperature Plot"
   ]
  },
  {
   "cell_type": "code",
   "execution_count": 7,
   "metadata": {
    "scrolled": true
   },
   "outputs": [
    {
     "data": {
      "image/png": "[encoded data removed]",
      "text/plain": [
       "<Figure size 432x288 with 1 Axes>"
      ]
     },
     "metadata": {
      "needs_background": "light"
     },
     "output_type": "display_data"
    }
   ],
   "source": [
    "plt.scatter(city_df[\"Lat\"], city_df[\"Max Temp\"], marker = \"o\", color = \"red\",edgecolor = \"black\")\n",
    "plt.grid()\n",
    "plt.xlabel(\"Latitude\")\n",
    "plt.ylabel(\"Max Temperature (F)\")\n",
    "plt.title(f\"City Latitude vs. Max Temperature on {date}\")\n",
    "plt.savefig(\"../output_data/Lat_vs_temp_plot\")"
   ]
  },
  {
   "cell_type": "markdown",
   "metadata": {},
   "source": [
    "## Latitude vs. Humidity Plot"
   ]
  },
  {
   "cell_type": "code",
   "execution_count": 8,
   "metadata": {},
   "outputs": [
    {
     "data": {
      "image/png": "[encoded data removed]",
      "text/plain": [
       "<Figure size 432x288 with 1 Axes>"
      ]
     },
     "metadata": {
      "needs_background": "light"
     },
     "output_type": "display_data"
    }
   ],
   "source": [
    "plt.scatter(city_df[\"Lat\"], city_df[\"Humidity\"], marker = \"o\", color = \"orange\",edgecolor = \"black\")\n",
    "plt.grid()\n",
    "plt.ylim(0, city_df[\"Humidity\"].max()+50)\n",
    "plt.xlabel(\"Latitude\")\n",
    "plt.ylabel(\"Humidity (%)\")\n",
    "plt.title(f\"City Latitude vs. Humidity on {date}\")\n",
    "plt.savefig(\"../output_data/plot_lat_vs_hum\")"
   ]
  },
  {
   "cell_type": "markdown",
   "metadata": {},
   "source": [
    "## Latitude vs. Cloudiness Plot"
   ]
  },
  {
   "cell_type": "code",
   "execution_count": 9,
   "metadata": {},
   "outputs": [
    {
     "data": {
      "image/png": "[encoded data removed]",
      "text/plain": [
       "<Figure size 432x288 with 1 Axes>"
      ]
     },
     "metadata": {
      "needs_background": "light"
     },
     "output_type": "display_data"
    }
   ],
   "source": [
    "plt.scatter(city_df[\"Lat\"], city_df[\"Cloudiness\"], marker = \"o\", color = \"blue\",edgecolor = \"black\")\n",
    "plt.grid()\n",
    "plt.xlabel(\"Latitude\")\n",
    "plt.ylabel(\"Cloudiness(%)\")\n",
    "plt.title(f\"City Latitude vs. Cloudiness on {date}\")\n",
    "plt.savefig(\"../output_data/plot_lat_vs_clouds\")"
   ]
  },
  {
   "cell_type": "markdown",
   "metadata": {},
   "source": [
    "## Latitude vs. Wind Speed Plot"
   ]
  },
  {
   "cell_type": "code",
   "execution_count": 10,
   "metadata": {},
   "outputs": [
    {
     "data": {
      "image/png": "[encoded data removed]",
      "text/plain": [
       "<Figure size 432x288 with 1 Axes>"
      ]
     },
     "metadata": {
      "needs_background": "light"
     },
     "output_type": "display_data"
    }
   ],
   "source": [
    "plt.scatter(city_df[\"Lat\"], city_df[\"Wind Speed\"], marker = \"o\", color = \"lightblue\",edgecolor = \"black\")\n",
    "plt.grid()\n",
    "plt.xlabel(\"Latitude\")\n",
    "plt.ylabel(\"Wind Speed (mph)\")\n",
    "plt.title(f\"City Latitude vs. Wind Speed on {date}\")\n",
    "plt.savefig(\"../output_data/plot_lat_windspeed\")"
   ]
  },
  {
   "cell_type": "markdown",
   "metadata": {},
   "source": [
    "## Linear Regression"
   ]
  },
  {
   "cell_type": "code",
   "execution_count": 11,
   "metadata": {},
   "outputs": [],
   "source": [
    "def linear_reg_plot(x_values,y_values):\n",
    "    (slope, intercept, rvalue, pvalue, stderr) = linregress(x_values, y_values)\n",
    "    regress_values = x_values * slope + intercept\n",
    "    line_eq = \"y = \" + str(round(slope,2)) + \"x + \" + str(round(intercept,2))\n",
    "    plt.scatter(x_values,y_values)\n",
    "    plt.plot(x_values,regress_values,\"r-\")\n",
    "    plt.annotate(line_eq,(x_values.median(),y_values.median()),fontsize=15,color=\"red\")\n",
    "    plt.xlabel(\"Latitude\")\n",
    "    print(f\"The r-squared is: {rvalue}\")"
   ]
  },
  {
   "cell_type": "code",
   "execution_count": 12,
   "metadata": {},
   "outputs": [],
   "source": [
    "# Create Northern and Southern Hemisphere DataFrames\n",
    "Northern_hemisphere = city_df.loc[city_df[\"Lat\"]>0]\n",
    "Southern_hemisphere = city_df.loc[city_df[\"Lat\"]<0]"
   ]
  },
  {
   "cell_type": "markdown",
   "metadata": {},
   "source": [
    "####  Northern Hemisphere - Max Temp vs. Latitude Linear Regression"
   ]
  },
  {
   "cell_type": "code",
   "execution_count": 13,
   "metadata": {},
   "outputs": [
    {
     "name": "stdout",
     "output_type": "stream",
     "text": [
      "The r-squared is: -0.8908908245028534\n",
      "None\n"
     ]
    },
    {
     "data": {
      "image/png": "[encoded data removed]",
      "text/plain": [
       "<Figure size 432x288 with 1 Axes>"
      ]
     },
     "metadata": {
      "needs_background": "light"
     },
     "output_type": "display_data"
    }
   ],
   "source": [
    "x_values = Northern_hemisphere[\"Lat\"]\n",
    "y_values = Northern_hemisphere[\"Max Temp\"]\n",
    "plt.ylabel(\"Max Temp (F)\")\n",
    "print(linear_reg_plot(x_values,y_values))"
   ]
  },
  {
   "cell_type": "markdown",
   "metadata": {},
   "source": [
    "####  Southern Hemisphere - Max Temp vs. Latitude Linear Regression"
   ]
  },
  {
   "cell_type": "code",
   "execution_count": 14,
   "metadata": {},
   "outputs": [
    {
     "name": "stdout",
     "output_type": "stream",
     "text": [
      "The r-squared is: 0.8127412285954361\n",
      "None\n"
     ]
    },
    {
     "data": {
      "image/png": "[encoded data removed]",
      "text/plain": [
       "<Figure size 432x288 with 1 Axes>"
      ]
     },
     "metadata": {
      "needs_background": "light"
     },
     "output_type": "display_data"
    }
   ],
   "source": [
    "x_values = Southern_hemisphere[\"Lat\"]\n",
    "y_values = Southern_hemisphere[\"Max Temp\"]\n",
    "plt.ylabel(\"Max Temp (F)\")\n",
    "print(linear_reg_plot(x_values,y_values))"
   ]
  },
  {
   "cell_type": "markdown",
   "metadata": {},
   "source": [
    "####  Northern Hemisphere - Humidity (%) vs. Latitude Linear Regression"
   ]
  },
  {
   "cell_type": "code",
   "execution_count": 15,
   "metadata": {},
   "outputs": [
    {
     "name": "stdout",
     "output_type": "stream",
     "text": [
      "The r-squared is: 0.09159928814019586\n",
      "None\n"
     ]
    },
    {
     "data": {
      "image/png": "[encoded data removed]",
      "text/plain": [
       "<Figure size 432x288 with 1 Axes>"
      ]
     },
     "metadata": {
      "needs_background": "light"
     },
     "output_type": "display_data"
    }
   ],
   "source": [
    "x_values = Northern_hemisphere[\"Lat\"]\n",
    "y_values = Northern_hemisphere[\"Humidity\"]\n",
    "plt.ylabel(\"Humidity (%)\")\n",
    "print(linear_reg_plot(x_values,y_values))"
   ]
  },
  {
   "cell_type": "markdown",
   "metadata": {},
   "source": [
    "####  Southern Hemisphere - Humidity (%) vs. Latitude Linear Regression"
   ]
  },
  {
   "cell_type": "code",
   "execution_count": 16,
   "metadata": {},
   "outputs": [
    {
     "name": "stdout",
     "output_type": "stream",
     "text": [
      "The r-squared is: -0.07356876054402985\n",
      "None\n"
     ]
    },
    {
     "data": {
      "image/png": "[encoded data removed]",
      "text/plain": [
       "<Figure size 432x288 with 1 Axes>"
      ]
     },
     "metadata": {
      "needs_background": "light"
     },
     "output_type": "display_data"
    }
   ],
   "source": [
    "x_values = Southern_hemisphere[\"Lat\"]\n",
    "y_values = Southern_hemisphere[\"Humidity\"]\n",
    "plt.ylim(0, y_values.max()+100)\n",
    "plt.ylabel(\"Humidity (%)\")\n",
    "print(linear_reg_plot(x_values,y_values))"
   ]
  },
  {
   "cell_type": "markdown",
   "metadata": {},
   "source": [
    "####  Northern Hemisphere - Cloudiness (%) vs. Latitude Linear Regression"
   ]
  },
  {
   "cell_type": "code",
   "execution_count": 17,
   "metadata": {},
   "outputs": [
    {
     "name": "stdout",
     "output_type": "stream",
     "text": [
      "The r-squared is: 0.17015164573245925\n",
      "None\n"
     ]
    },
    {
     "data": {
      "image/png": "[encoded data removed]",
      "text/plain": [
       "<Figure size 432x288 with 1 Axes>"
      ]
     },
     "metadata": {
      "needs_background": "light"
     },
     "output_type": "display_data"
    }
   ],
   "source": [
    "x_values = Northern_hemisphere[\"Lat\"]\n",
    "y_values = Northern_hemisphere[\"Cloudiness\"]\n",
    "plt.ylabel(\"Cloudiness\")\n",
    "print(linear_reg_plot(x_values,y_values))"
   ]
  },
  {
   "cell_type": "markdown",
   "metadata": {},
   "source": [
    "####  Southern Hemisphere - Cloudiness (%) vs. Latitude Linear Regression"
   ]
  },
  {
   "cell_type": "code",
   "execution_count": 18,
   "metadata": {},
   "outputs": [
    {
     "name": "stdout",
     "output_type": "stream",
     "text": [
      "The r-squared is: 0.27904280482477833\n",
      "None\n"
     ]
    },
    {
     "data": {
      "image/png": "[encoded data removed]",
      "text/plain": [
       "<Figure size 432x288 with 1 Axes>"
      ]
     },
     "metadata": {
      "needs_background": "light"
     },
     "output_type": "display_data"
    }
   ],
   "source": [
    "x_values = Southern_hemisphere[\"Lat\"]\n",
    "y_values = Southern_hemisphere[\"Cloudiness\"]\n",
    "plt.ylabel(\"Cloudiness\")\n",
    "print(linear_reg_plot(x_values,y_values))"
   ]
  },
  {
   "cell_type": "markdown",
   "metadata": {},
   "source": [
    "####  Northern Hemisphere - Wind Speed (mph) vs. Latitude Linear Regression"
   ]
  },
  {
   "cell_type": "code",
   "execution_count": 19,
   "metadata": {},
   "outputs": [
    {
     "name": "stdout",
     "output_type": "stream",
     "text": [
      "The r-squared is: 0.10946402530562493\n",
      "None\n"
     ]
    },
    {
     "data": {
      "image/png": "[encoded data removed]",
      "text/plain": [
       "<Figure size 432x288 with 1 Axes>"
      ]
     },
     "metadata": {
      "needs_background": "light"
     },
     "output_type": "display_data"
    }
   ],
   "source": [
    "x_values = Northern_hemisphere[\"Lat\"]\n",
    "y_values = Northern_hemisphere[\"Wind Speed\"]\n",
    "plt.ylabel(\"Wind Speed\")\n",
    "print(linear_reg_plot(x_values,y_values))"
   ]
  },
  {
   "cell_type": "markdown",
   "metadata": {},
   "source": [
    "####  Southern Hemisphere - Wind Speed (mph) vs. Latitude Linear Regression"
   ]
  },
  {
   "cell_type": "code",
   "execution_count": 20,
   "metadata": {},
   "outputs": [
    {
     "name": "stdout",
     "output_type": "stream",
     "text": [
      "The r-squared is: -0.08087226292253004\n",
      "None\n"
     ]
    },
    {
     "data": {
      "image/png": "[encoded data removed]",
      "text/plain": [
       "<Figure size 432x288 with 1 Axes>"
      ]
     },
     "metadata": {
      "needs_background": "light"
     },
     "output_type": "display_data"
    }
   ],
   "source": [
    "x_values = Southern_hemisphere[\"Lat\"]\n",
    "y_values = Southern_hemisphere[\"Wind Speed\"]\n",
    "plt.ylabel(\"Wind Speed\")\n",
    "print(linear_reg_plot(x_values,y_values))"
   ]
  },
  {
   "cell_type": "code",
   "execution_count": null,
   "metadata": {},
   "outputs": [],
   "source": []
  }
 ],
 "metadata": {
  "anaconda-cloud": {},
  "kernel_info": {
   "name": "python3"
  },
  "kernelspec": {
   "display_name": "Python 3",
   "language": "python",
   "name": "python3"
  },
  "language_info": {
   "codemirror_mode": {
    "name": "ipython",
    "version": 3
   },
   "file_extension": ".py",
   "mimetype": "text/x-python",
   "name": "python",
   "nbconvert_exporter": "python",
   "pygments_lexer": "ipython3",
   "version": "3.6.10"
  },
  "latex_envs": {
   "LaTeX_envs_menu_present": true,
   "autoclose": false,
   "autocomplete": true,
   "bibliofile": "biblio.bib",
   "cite_by": "apalike",
   "current_citInitial": 1,
   "eqLabelWithNumbers": true,
   "eqNumInitial": 1,
   "hotkeys": {
    "equation": "Ctrl-E",
    "itemize": "Ctrl-I"
   },
   "labels_anchors": false,
   "latex_user_defs": false,
   "report_style_numbering": false,
   "user_envs_cfg": false
  },
  "nteract": {
   "version": "0.12.3"
  }
 },
 "nbformat": 4,
 "nbformat_minor": 4
}
